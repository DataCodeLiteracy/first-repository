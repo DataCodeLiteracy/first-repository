{
  "nbformat": 4,
  "nbformat_minor": 0,
  "metadata": {
    "colab": {
      "provenance": [],
      "include_colab_link": true
    },
    "kernelspec": {
      "name": "python3",
      "display_name": "Python 3"
    },
    "language_info": {
      "name": "python"
    }
  },
  "cells": [
    {
      "cell_type": "markdown",
      "metadata": {
        "id": "view-in-github",
        "colab_type": "text"
      },
      "source": [
        "<a href=\"https://colab.research.google.com/github/Dennis-HyeongHo-Park/first-repository/blob/master/Untitled0.ipynb\" target=\"_parent\"><img src=\"https://colab.research.google.com/assets/colab-badge.svg\" alt=\"Open In Colab\"/></a>"
      ]
    },
    {
      "cell_type": "markdown",
      "source": [
        "\n",
        "회문인지 아닌지 확인하는 프로그램\n",
        "\n",
        "회문이란?\n",
        " 앞에서부터 읽어도 뒤에서부터 읽어도 같은 단어, 그, 문장, 숫자, 혹은 문단\n",
        "\n",
        "조건\n",
        "  - 책스트를 입력받는다.\n",
        "  - 입력된 단어를 출력한다.\n",
        "  - 뒤집힌 단어를 출력한다.\n",
        "  - 입력된 단어가 회문이 맞는지 확인하여 출력할 수 있게 한다.\n",
        "     input, 자료형, 제어문, 함수 활용\n",
        "\n",
        "\n",
        "<u>출력 예시</u>\n",
        "\n",
        "입력값 :\n",
        "\n",
        "우성우\n",
        "\n",
        "출력값 :\n",
        "\n",
        "뒤집힌 단어: 우성우\n",
        "\n",
        "입력된 단어는 회문입니다."
      ],
      "metadata": {
        "id": "XiEGGewyMMf4"
      }
    },
    {
      "cell_type": "markdown",
      "source": [
        "1. 텍스트를 입력받는다. '단어를 입력하세요' 를 입력한다.\n",
        "= input()\n",
        "\n",
        "2. 입력된 단어를 출력한다.\n",
        "= print() 한다.\n",
        "\n",
        "3. 뒤집힌 단어를 출력한다.\n",
        "= 인덱스를 활용해서 뒤집어서, print() 한다.\n",
        "\n",
        "4. 입력된 단어가 회문이 맞는지 확인하여 출력할 수 있게 한다.\n",
        "=  입출력된 인덱스 가 동일한지 확인하여, print() 한다.\n",
        "\n",
        "5. '입력된 단어는 회문입니다.' 를 출력한다.\n",
        "  ('입력된 단어는 회문이 아닙니다.' 를 출력한다.)\n",
        "= print()"
      ],
      "metadata": {
        "id": "FIfC8D-2M8EH"
      }
    },
    {
      "cell_type": "code",
      "execution_count": null,
      "metadata": {
        "colab": {
          "base_uri": "https://localhost:8080/"
        },
        "id": "GmpBlTXYIBy1",
        "outputId": "0354eaea-1b6f-4daf-8528-b0fe8dc764b9"
      },
      "outputs": [
        {
          "output_type": "stream",
          "name": "stdout",
          "text": [
            "단어를 입력하세요.:가나다다나가\n",
            "가나다다나가\n",
            "가나다다나가\n",
            "입력된 단어는 회문 입니다.\n"
          ]
        }
      ],
      "source": [
        "\n",
        "name = input(\"단어를 입력하세요.:\") # input함수로 입력된 값을 name 변수에 대입\n",
        "print(name) # name 값을 print\n",
        "rv_name = name[::-1]  # rv_name(리버스_네임) 변수에 역순된 name 값을 대입 ( ::-1 = 모든 인덱스를 역순으로 1개씩 )\n",
        "print(rv_name) # rv_name 값을 print\n",
        "\n",
        "if name == rv_name :  # 만약 name 값과 rv_name 값이 동일하다면\n",
        "  print(\"입력된 단어는 회문 입니다.\") # print\n",
        "else :  # 그외의 조건이라면\n",
        "  print(\"입력된 단어는 회문이 아닙니다.\") # print\n",
        "\n",
        "\n"
      ]
    },
    {
      "cell_type": "code",
      "source": [
        "name = input(\"단어를 입력하세요.:\")\n",
        "print(name)\n",
        "print(name[::])"
      ],
      "metadata": {
        "colab": {
          "base_uri": "https://localhost:8080/"
        },
        "id": "PjqJVbkCSeV6",
        "outputId": "558b341d-927e-4d09-b6d8-e53d39f1fd9c"
      },
      "execution_count": null,
      "outputs": [
        {
          "output_type": "stream",
          "name": "stdout",
          "text": [
            "단어를 입력하세요.:우성우\n",
            "우성우\n"
          ]
        }
      ]
    },
    {
      "cell_type": "code",
      "source": [
        "print(name)"
      ],
      "metadata": {
        "id": "tm-RSehaSpoY",
        "colab": {
          "base_uri": "https://localhost:8080/"
        },
        "outputId": "60b938b9-f1d8-4e83-f6a6-25e1eaac18cc"
      },
      "execution_count": null,
      "outputs": [
        {
          "output_type": "stream",
          "name": "stdout",
          "text": [
            "가나다\n"
          ]
        }
      ]
    },
    {
      "cell_type": "code",
      "source": [
        "name = input(\"단어를 입력하세요.:\")\n",
        "print(name)\n",
        "rv_name = name[::-1]\n",
        "print(rv_name)\n",
        "\n",
        "name = list(name)\n",
        "rv_name = list(rv_name)\n",
        "\n",
        "print(name)\n",
        "print(rv_name)\n",
        "\n",
        "def"
      ],
      "metadata": {
        "colab": {
          "base_uri": "https://localhost:8080/"
        },
        "id": "ohspXV1CYbuB",
        "outputId": "b7472fb3-c6b4-4d2e-9e7b-a2c94ebd56f0"
      },
      "execution_count": null,
      "outputs": [
        {
          "output_type": "stream",
          "name": "stdout",
          "text": [
            "단어를 입력하세요.:가나다\n",
            "가나다\n",
            "다나가\n",
            "['가', '나', '다']\n",
            "['다', '나', '가']\n"
          ]
        }
      ]
    },
    {
      "cell_type": "code",
      "source": [],
      "metadata": {
        "id": "WUeOrCQgYiSJ"
      },
      "execution_count": null,
      "outputs": []
    }
  ]
}