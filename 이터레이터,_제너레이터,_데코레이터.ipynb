{
  "nbformat": 4,
  "nbformat_minor": 0,
  "metadata": {
    "colab": {
      "provenance": [],
      "authorship_tag": "ABX9TyPVu/sLD5IK1HPAmB2jF2tS",
      "include_colab_link": true
    },
    "kernelspec": {
      "name": "python3",
      "display_name": "Python 3"
    },
    "language_info": {
      "name": "python"
    }
  },
  "cells": [
    {
      "cell_type": "markdown",
      "metadata": {
        "id": "view-in-github",
        "colab_type": "text"
      },
      "source": [
        "<a href=\"https://colab.research.google.com/github/Dennis-HyeongHo-Park/AIFFEL_quest_cr/blob/master/%EC%9D%B4%ED%84%B0%EB%A0%88%EC%9D%B4%ED%84%B0%2C_%EC%A0%9C%EB%84%88%EB%A0%88%EC%9D%B4%ED%84%B0%2C_%EB%8D%B0%EC%BD%94%EB%A0%88%EC%9D%B4%ED%84%B0.ipynb\" target=\"_parent\"><img src=\"https://colab.research.google.com/assets/colab-badge.svg\" alt=\"Open In Colab\"/></a>"
      ]
    },
    {
      "cell_type": "markdown",
      "source": [
        "## 이터레이터(Iterator)\n",
        "존재의 이유는 바로 <u>메모리 효율</u> 때문이다."
      ],
      "metadata": {
        "id": "vRXTHiNUqYNB"
      }
    },
    {
      "cell_type": "markdown",
      "source": [
        "#### 이터러블(Iterable) : 반복 할 수 있는 객체  \n",
        "\n",
        "- range()함수, 리스트, 문자열 등이 여기에 해당된다.    \n",
        "\n",
        "\n",
        "        for 반복자 in 이터러블\n",
        "          \n",
        "        .__iter__() 메서드(method)를 사용하여, **객체가 이터러블 한지 아닌지를 알아 볼 수 있다.**"
      ],
      "metadata": {
        "id": "Gx_7Stprqzny"
      }
    },
    {
      "cell_type": "code",
      "source": [
        "# int형이 이터러블한지 확인.\n",
        "int_car = 7897\n",
        "int_car.__iter__()\n",
        "\n",
        "# 결과는 애러가 난다.\n",
        "# int형은 __iter__() 메서드를 사용할 수 없으므로 이터블이 아니다."
      ],
      "metadata": {
        "colab": {
          "base_uri": "https://localhost:8080/",
          "height": 220
        },
        "id": "RAq_8VcKgMSz",
        "outputId": "1262e68d-71c2-4275-8614-a57cfb63743b"
      },
      "execution_count": 3,
      "outputs": [
        {
          "output_type": "error",
          "ename": "AttributeError",
          "evalue": "'int' object has no attribute '__iter__'",
          "traceback": [
            "\u001b[0;31m---------------------------------------------------------------------------\u001b[0m",
            "\u001b[0;31mAttributeError\u001b[0m                            Traceback (most recent call last)",
            "\u001b[0;32m<ipython-input-3-0ee820917abc>\u001b[0m in \u001b[0;36m<cell line: 3>\u001b[0;34m()\u001b[0m\n\u001b[1;32m      1\u001b[0m \u001b[0;31m# int형이 이터러블한지 확인.\u001b[0m\u001b[0;34m\u001b[0m\u001b[0;34m\u001b[0m\u001b[0m\n\u001b[1;32m      2\u001b[0m \u001b[0mint_car\u001b[0m \u001b[0;34m=\u001b[0m \u001b[0;36m7897\u001b[0m\u001b[0;34m\u001b[0m\u001b[0;34m\u001b[0m\u001b[0m\n\u001b[0;32m----> 3\u001b[0;31m \u001b[0mint_car\u001b[0m\u001b[0;34m.\u001b[0m\u001b[0m__iter__\u001b[0m\u001b[0;34m(\u001b[0m\u001b[0;34m)\u001b[0m\u001b[0;34m\u001b[0m\u001b[0;34m\u001b[0m\u001b[0m\n\u001b[0m\u001b[1;32m      4\u001b[0m \u001b[0;34m\u001b[0m\u001b[0m\n\u001b[1;32m      5\u001b[0m \u001b[0;31m# 결과는 애러가 난다.\u001b[0m\u001b[0;34m\u001b[0m\u001b[0;34m\u001b[0m\u001b[0m\n",
            "\u001b[0;31mAttributeError\u001b[0m: 'int' object has no attribute '__iter__'"
          ]
        }
      ]
    },
    {
      "cell_type": "code",
      "source": [
        "# srt이 이터러블한지 확인\n",
        "str_ai = 'aiffel'\n",
        "str_ai.__iter__()\n",
        "\n",
        "# 이 객체는 이터러블 하나고 확인된다."
      ],
      "metadata": {
        "colab": {
          "base_uri": "https://localhost:8080/"
        },
        "id": "OcHv2znBgMQi",
        "outputId": "0b579420-a9ba-4d82-ce3a-344ed874d5e4"
      },
      "execution_count": 4,
      "outputs": [
        {
          "output_type": "execute_result",
          "data": {
            "text/plain": [
              "<str_iterator at 0x7b9cfeb84940>"
            ]
          },
          "metadata": {},
          "execution_count": 4
        }
      ]
    },
    {
      "cell_type": "code",
      "source": [
        "# Q. 리스트가 이터러블한지 확인해 보세요.\n",
        "\n",
        "list_ai = ['a', 'i', 'f', 'f', 'e', 'l']\n",
        "\n",
        "list_ai.__iter__()"
      ],
      "metadata": {
        "colab": {
          "base_uri": "https://localhost:8080/"
        },
        "id": "_9sUyCuegMOh",
        "outputId": "70dd163a-1f7e-4f96-d8a1-ef90304d9046"
      },
      "execution_count": 5,
      "outputs": [
        {
          "output_type": "execute_result",
          "data": {
            "text/plain": [
              "<list_iterator at 0x7b9cfeb84b80>"
            ]
          },
          "metadata": {},
          "execution_count": 5
        }
      ]
    },
    {
      "cell_type": "code",
      "source": [
        "# Q. 튜플이 이터러블한지 확인해 보세요.\n",
        "\n",
        "tup_ai = ('a', 'i', 'f', 'f', 'e', 'l')\n",
        "\n",
        "tup_ai.__iter__()"
      ],
      "metadata": {
        "colab": {
          "base_uri": "https://localhost:8080/"
        },
        "id": "z-qG0iTXgMMx",
        "outputId": "1c993dd0-dd82-47ed-ea77-166d74fbd17e"
      },
      "execution_count": 6,
      "outputs": [
        {
          "output_type": "execute_result",
          "data": {
            "text/plain": [
              "<tuple_iterator at 0x7b9cfeb84550>"
            ]
          },
          "metadata": {},
          "execution_count": 6
        }
      ]
    },
    {
      "cell_type": "code",
      "source": [
        "# Q. 셋이 이터러블한지 확인해 보세요.\n",
        "\n",
        "set_ai = {'a', 'i', 'f', 'f', 'e', 'l'}\n",
        "\n",
        "set_ai.__iter__()"
      ],
      "metadata": {
        "colab": {
          "base_uri": "https://localhost:8080/"
        },
        "id": "Uc2Pkzi3gMKv",
        "outputId": "0c34b538-3b6f-4cca-b436-18977cdd3d41"
      },
      "execution_count": 7,
      "outputs": [
        {
          "output_type": "execute_result",
          "data": {
            "text/plain": [
              "<set_iterator at 0x7b9cfe570700>"
            ]
          },
          "metadata": {},
          "execution_count": 7
        }
      ]
    },
    {
      "cell_type": "code",
      "source": [
        "# Q. 딕셔너리가 이터러블한지 확인해 보세요.\n",
        "\n",
        "dict_ai = {0:'a', 1:'i', 2:'f', 3:'f', 4:'e', 5:'l'}\n",
        "\n",
        "dict_ai.__iter__()"
      ],
      "metadata": {
        "colab": {
          "base_uri": "https://localhost:8080/"
        },
        "id": "5kgdHMS_gMIl",
        "outputId": "a9b7e05b-3e6e-4b97-d22c-f441d181628b"
      },
      "execution_count": 8,
      "outputs": [
        {
          "output_type": "execute_result",
          "data": {
            "text/plain": [
              "<dict_keyiterator at 0x7b9cff6884a0>"
            ]
          },
          "metadata": {},
          "execution_count": 8
        }
      ]
    },
    {
      "cell_type": "code",
      "source": [
        "# range()가 이터러블한지 확인\n",
        "\n",
        "range(0, 11).__iter__()\n"
      ],
      "metadata": {
        "colab": {
          "base_uri": "https://localhost:8080/"
        },
        "id": "D20aoe3dgMGl",
        "outputId": "b923dba4-1774-4a69-db63-712ea5759b79"
      },
      "execution_count": 9,
      "outputs": [
        {
          "output_type": "execute_result",
          "data": {
            "text/plain": [
              "<range_iterator at 0x7b9cfeb84090>"
            ]
          },
          "metadata": {},
          "execution_count": 9
        }
      ]
    },
    {
      "cell_type": "code",
      "source": [
        "# .__iter__() 메서드 말고도 iter() 함수도 있다.\n",
        "iter(range(0,11))"
      ],
      "metadata": {
        "colab": {
          "base_uri": "https://localhost:8080/"
        },
        "id": "Ot1p6ulnto4u",
        "outputId": "dd295d6b-4326-435d-bfaf-adf6761349c1"
      },
      "execution_count": 11,
      "outputs": [
        {
          "output_type": "execute_result",
          "data": {
            "text/plain": [
              "<range_iterator at 0x7b9cfeb86850>"
            ]
          },
          "metadata": {},
          "execution_count": 11
        }
      ]
    },
    {
      "cell_type": "markdown",
      "source": [
        "- 하나 써둘것!!!\n",
        "- 자료형 6 가지\n",
        "- int, str, 리스트, 튜플, 셋, 딕셔너리, rnage()\n",
        "- 또한 여기서 나온 메서드는 함수에 포함되어 있는 개념이다. 사용 방법은 함수와 비슷하다."
      ],
      "metadata": {
        "id": "TwfFKh0Ct3kQ"
      }
    },
    {
      "cell_type": "markdown",
      "source": [
        "#### 이터레이터(Iterator)\n",
        "- 이터러블과 이터레이터의 차이점\n",
        "    - 이터러블 객체 : .__ iter __() 메서드 사용\n",
        "            이터블 객체인지 아닌지를 알아보는것!!!!!\n",
        "\n",
        "    - 이터레이터 : .__ next __() 메서드 사용\n",
        "    \n",
        "        - <u>값을 차례대로 꺼낼 수 있는 객채</u>\n",
        "        - .__ netx __() 메서드를 사용하여 해당 객체가 이터레이터인지 확인."
      ],
      "metadata": {
        "id": "3TrVHQdkup27"
      }
    },
    {
      "cell_type": "code",
      "source": [
        "# 이터레이터를 확인하는 방법\n",
        "range_iter = range(0, 11).__iter__()\n",
        "range_iter.__next__()"
      ],
      "metadata": {
        "colab": {
          "base_uri": "https://localhost:8080/"
        },
        "id": "4rvo6n2b6VUL",
        "outputId": "af093742-0c6e-4cd0-aa48-38f3b24b408e"
      },
      "execution_count": 16,
      "outputs": [
        {
          "output_type": "execute_result",
          "data": {
            "text/plain": [
              "0"
            ]
          },
          "metadata": {},
          "execution_count": 16
        }
      ]
    },
    {
      "cell_type": "code",
      "source": [
        "print(range_iter)"
      ],
      "metadata": {
        "colab": {
          "base_uri": "https://localhost:8080/"
        },
        "id": "TBwtD5TR6VRj",
        "outputId": "a2e5a5a3-532f-47cd-d439-c1fa4c09d4bb"
      },
      "execution_count": 15,
      "outputs": [
        {
          "output_type": "stream",
          "name": "stdout",
          "text": [
            "<range_iterator object at 0x7b9cfeb87ea0>\n"
          ]
        }
      ]
    },
    {
      "cell_type": "code",
      "source": [
        "range_iter.__next__()"
      ],
      "metadata": {
        "colab": {
          "base_uri": "https://localhost:8080/"
        },
        "id": "yrbmizrugMCc",
        "outputId": "b7af5729-ed62-4dbf-d117-9edfdd820313"
      },
      "execution_count": 18,
      "outputs": [
        {
          "output_type": "execute_result",
          "data": {
            "text/plain": [
              "2"
            ]
          },
          "metadata": {},
          "execution_count": 18
        }
      ]
    },
    {
      "cell_type": "code",
      "source": [
        "range_iter.__next__()"
      ],
      "metadata": {
        "colab": {
          "base_uri": "https://localhost:8080/"
        },
        "id": "RiQfg94cgMAZ",
        "outputId": "1abddea2-c0a0-4f14-beeb-66b1b02916ce"
      },
      "execution_count": 19,
      "outputs": [
        {
          "output_type": "execute_result",
          "data": {
            "text/plain": [
              "3"
            ]
          },
          "metadata": {},
          "execution_count": 19
        }
      ]
    },
    {
      "cell_type": "code",
      "source": [
        "range_iter.__next__()"
      ],
      "metadata": {
        "colab": {
          "base_uri": "https://localhost:8080/"
        },
        "id": "Miah7vJagL-f",
        "outputId": "1ca1afcb-d780-4be1-b39d-6f45c5426aa0"
      },
      "execution_count": 20,
      "outputs": [
        {
          "output_type": "execute_result",
          "data": {
            "text/plain": [
              "4"
            ]
          },
          "metadata": {},
          "execution_count": 20
        }
      ]
    },
    {
      "cell_type": "code",
      "source": [
        "range_iter.__next__()"
      ],
      "metadata": {
        "colab": {
          "base_uri": "https://localhost:8080/"
        },
        "id": "zCYmEJBBM-Cb",
        "outputId": "b9cdc22f-6529-4efe-e136-d24720a1b83e"
      },
      "execution_count": 22,
      "outputs": [
        {
          "output_type": "execute_result",
          "data": {
            "text/plain": [
              "6"
            ]
          },
          "metadata": {},
          "execution_count": 22
        }
      ]
    },
    {
      "cell_type": "code",
      "source": [
        "range_iter.__next__()\n",
        "\n",
        "# 결과처럼 range(0, 11) 즉 1 ~ 10 의 각 값을 차례대로 꺼내어 준다.\n",
        "# 근데 이게 .. 꺼내어진 값은 어떻게 되고, 이걸 왜 사용하는거지??"
      ],
      "metadata": {
        "colab": {
          "base_uri": "https://localhost:8080/"
        },
        "id": "AhemG492gL8a",
        "outputId": "c3272ddb-6ac1-4d02-b524-6b8bd3e65767"
      },
      "execution_count": 21,
      "outputs": [
        {
          "output_type": "execute_result",
          "data": {
            "text/plain": [
              "5"
            ]
          },
          "metadata": {},
          "execution_count": 21
        }
      ]
    },
    {
      "cell_type": "code",
      "source": [
        "range_iter.__next__()  # 7\n",
        "range_iter.__next__()  # 8\n",
        "range_iter.__next__()  # 9\n",
        "range_iter.__next__()  # 10, 마지막 줄에 있는 코드의 리턴값만 출력됩니다.\n",
        "\n",
        "# 그런데 한번 더하면?!"
      ],
      "metadata": {
        "colab": {
          "base_uri": "https://localhost:8080/"
        },
        "id": "65vRX86mgL6J",
        "outputId": "cc7b2b08-7d8c-48b1-e9ec-3ee642a92a2d"
      },
      "execution_count": 23,
      "outputs": [
        {
          "output_type": "execute_result",
          "data": {
            "text/plain": [
              "10"
            ]
          },
          "metadata": {},
          "execution_count": 23
        }
      ]
    },
    {
      "cell_type": "code",
      "execution_count": 24,
      "metadata": {
        "colab": {
          "base_uri": "https://localhost:8080/",
          "height": 147
        },
        "id": "nUQma-qrfnDa",
        "outputId": "a1ba41d2-a52e-4f29-c22f-d9bdf3b5033c"
      },
      "outputs": [
        {
          "output_type": "error",
          "ename": "StopIteration",
          "evalue": "",
          "traceback": [
            "\u001b[0;31m---------------------------------------------------------------------------\u001b[0m",
            "\u001b[0;31mStopIteration\u001b[0m                             Traceback (most recent call last)",
            "\u001b[0;32m<ipython-input-24-1905bcd64e5b>\u001b[0m in \u001b[0;36m<cell line: 1>\u001b[0;34m()\u001b[0m\n\u001b[0;32m----> 1\u001b[0;31m \u001b[0mrange_iter\u001b[0m\u001b[0;34m.\u001b[0m\u001b[0m__next__\u001b[0m\u001b[0;34m(\u001b[0m\u001b[0;34m)\u001b[0m\u001b[0;34m\u001b[0m\u001b[0;34m\u001b[0m\u001b[0m\n\u001b[0m",
            "\u001b[0;31mStopIteration\u001b[0m: "
          ]
        }
      ],
      "source": [
        "range_iter.__next__()\n",
        "\n",
        "# 애러가남.  더이상 꺼낼 값이 없으면 이렇게 애러가 난다."
      ]
    },
    {
      "cell_type": "code",
      "source": [
        "# 만약에 이터레이터가 아닌 이터러블에 객체에 사용하면 어떻게 될까?\n",
        "# 이터러블에 __next__() 써보기\n",
        "range(0, 11).__next__()\n",
        "\n",
        "# 애러가 뜸.\n",
        "# 즉 range()는 이터러블하지만 이터레이터는 아니다!"
      ],
      "metadata": {
        "colab": {
          "base_uri": "https://localhost:8080/",
          "height": 183
        },
        "id": "iECcLlNbNJrU",
        "outputId": "6a617bee-a0bc-473a-84cc-5d9cd96d0683"
      },
      "execution_count": 29,
      "outputs": [
        {
          "output_type": "error",
          "ename": "AttributeError",
          "evalue": "'range' object has no attribute '__next__'",
          "traceback": [
            "\u001b[0;31m---------------------------------------------------------------------------\u001b[0m",
            "\u001b[0;31mAttributeError\u001b[0m                            Traceback (most recent call last)",
            "\u001b[0;32m<ipython-input-29-4b65f634bc0f>\u001b[0m in \u001b[0;36m<cell line: 3>\u001b[0;34m()\u001b[0m\n\u001b[1;32m      1\u001b[0m \u001b[0;31m# 만약에 이터레이터가 아닌 이터러블에 객체에 사용하면 어떻게 될까?\u001b[0m\u001b[0;34m\u001b[0m\u001b[0;34m\u001b[0m\u001b[0m\n\u001b[1;32m      2\u001b[0m \u001b[0;31m# 이터러블에 __next__() 써보기\u001b[0m\u001b[0;34m\u001b[0m\u001b[0;34m\u001b[0m\u001b[0m\n\u001b[0;32m----> 3\u001b[0;31m \u001b[0mrange\u001b[0m\u001b[0;34m(\u001b[0m\u001b[0;36m0\u001b[0m\u001b[0;34m,\u001b[0m \u001b[0;36m11\u001b[0m\u001b[0;34m)\u001b[0m\u001b[0;34m.\u001b[0m\u001b[0m__next__\u001b[0m\u001b[0;34m(\u001b[0m\u001b[0;34m)\u001b[0m\u001b[0;34m\u001b[0m\u001b[0;34m\u001b[0m\u001b[0m\n\u001b[0m",
            "\u001b[0;31mAttributeError\u001b[0m: 'range' object has no attribute '__next__'"
          ]
        }
      ]
    },
    {
      "cell_type": "code",
      "source": [
        "# 그러면 어떻게하면 .__next__()사용할수 있을까?\n",
        "\n",
        "ved = range(0, 11).__iter__()\n",
        "\n",
        "ved.__next__()\n",
        "\n",
        "# 이렇게 하면 됨!!?!??!  왜지?? range(0, 11) 이 이터레이터인지 확인이 된것만 쓸 수 있는건가?\n",
        "# 다음 설명을 들어보면 그런거 같다."
      ],
      "metadata": {
        "colab": {
          "base_uri": "https://localhost:8080/"
        },
        "id": "gdBgX3AbNm7-",
        "outputId": "01b46d72-6b09-4343-950a-931d31772af7"
      },
      "execution_count": 32,
      "outputs": [
        {
          "output_type": "execute_result",
          "data": {
            "text/plain": [
              "0"
            ]
          },
          "metadata": {},
          "execution_count": 32
        }
      ]
    },
    {
      "cell_type": "markdown",
      "source": [
        "###  __ iter __() -> __ next __()\n",
        "최종적으로 메소드를 사용하는 순서를 정리해 보면  \n",
        "__ iter __() 로 이터레이터를 얻고, __ next __()로    반복적으로 이터레이터의 값을 차례대로 꺼낼 수 있다.\n",
        "\n",
        "        이터러블 -> __iter__() -> 이터레이터 -> __next__()\n",
        "\n",
        "### for문과 이터레이터의 관계\n",
        "        \n",
        "        for i in range(0, 11)\n",
        "\n",
        "- 사실 range(0, 11)은 0 ~ 10의 정수를 만들어내는 것이 아니라 값을 차례대로 꺼낼 수 있는 이터레이터 하나를 만든 것이다.\n",
        "- 즉, 6개의 자료형(str, 리스트, 튜플, 셋, 딕셔너리, range()함수)은 내부적으로 __ iter __()메서드가 구현되어 있었던 것이다.\n"
      ],
      "metadata": {
        "id": "A_Av7VgPO1MW"
      }
    },
    {
      "cell_type": "markdown",
      "source": [
        "## 제너레이터(Generator)\n",
        "- 이터레이터를 생성하는 함수.\n",
        "    - 처리해야하는 숫자가 커지면 메모리의 사용이 증가할 수 있다.\n",
        "    - 이런 문제 때문에 큰 규모의 데이터셋에서는 제대로 동작하지 않거나 매우 느리게 동작하게 된다.\n",
        "    - 제너레이터는 한번에 데이터를 모아서 처리하지 않기 때문에 큰 메모리를 사용하지 않아도 된다. 이는 개발에 매우 중요한 요소이다.\n",
        "    - 즉, 제너레이터는 큰 규모의 확장성이 있는 프로그램을 개발하기 위해 사용된다.\n",
        "\n",
        "# 그럼.. 이터레이터랑 제너레이터랑 뭐가달러?\n"
      ],
      "metadata": {
        "id": "iFdXNplmQppH"
      }
    },
    {
      "cell_type": "markdown",
      "source": [
        "### 제너레이터 생성하기\n",
        "- 제너레이터 표현식(generator expression)과 제너레이터 함수"
      ],
      "metadata": {
        "id": "RIIvTsSwhSR1"
      }
    },
    {
      "cell_type": "code",
      "source": [
        "# 제너레이터 표현식\n",
        "# 소괄호 안에 컴프리헨션을 적으면 튜플이 나올까?\n",
        "\n",
        "(x for x in range(0, 5+1))\n",
        "# 제너레이터가 만들어짐 .. 왜??\n"
      ],
      "metadata": {
        "colab": {
          "base_uri": "https://localhost:8080/"
        },
        "id": "TpY-TlKcO1JJ",
        "outputId": "6947fd32-264e-40e9-db5a-0009deeb4024"
      },
      "execution_count": 38,
      "outputs": [
        {
          "output_type": "execute_result",
          "data": {
            "text/plain": [
              "<generator object <genexpr> at 0x7b9cfe5baa40>"
            ]
          },
          "metadata": {},
          "execution_count": 38
        }
      ]
    },
    {
      "cell_type": "code",
      "source": [
        "# 그럼 튜플 컴프리헨션 을 해보자\n",
        "\n",
        "tuple(x for x in range(0, 5+1))\n",
        "# 튜플 형식으로 나온다... 튜플 함수를 써서 그런가?? 그럼 위에껀 왜 저렇게 나오지??"
      ],
      "metadata": {
        "colab": {
          "base_uri": "https://localhost:8080/"
        },
        "id": "Uy4pXDo0O1HM",
        "outputId": "f79c7db4-e4b5-4531-e0a7-424b6f498b9c"
      },
      "execution_count": 39,
      "outputs": [
        {
          "output_type": "execute_result",
          "data": {
            "text/plain": [
              "(0, 1, 2, 3, 4, 5)"
            ]
          },
          "metadata": {},
          "execution_count": 39
        }
      ]
    },
    {
      "cell_type": "markdown",
      "source": [
        "###제너레이터 함수\n",
        "- yield가 하나라도 있으면 제너레이터 함수가 된다.\n",
        "- 이는 return과 같은 역할을 하지만, 메모리에 적제하는 방식에서 차이가 있다."
      ],
      "metadata": {
        "id": "LWpLMJHDiq_f"
      }
    },
    {
      "cell_type": "code",
      "source": [
        "# 제너레이터 함수 만들어보기\n",
        "\n",
        "def num_gen() :\n",
        "    yield 1\n",
        "    yield 2\n",
        "    yield 3\n",
        "\n",
        "num_gen()"
      ],
      "metadata": {
        "colab": {
          "base_uri": "https://localhost:8080/"
        },
        "id": "vxH8K3KtO1FD",
        "outputId": "24d17df6-952f-4411-c826-6b5753236339"
      },
      "execution_count": 41,
      "outputs": [
        {
          "output_type": "execute_result",
          "data": {
            "text/plain": [
              "<generator object num_gen at 0x7b9cfe5bad50>"
            ]
          },
          "metadata": {},
          "execution_count": 41
        }
      ]
    },
    {
      "cell_type": "markdown",
      "source": [
        "- 마지막에 num_gen() 제터레이터 함수를 호출 하였는데도 yield값은 나오지 않는다.\n",
        "- 대신 제너레이터 객체가 생성되었다고 알려준다.\n",
        "- 지금 이상태는 코드가 실행될 준비를 한 상태인것이다.\n"
      ],
      "metadata": {
        "id": "vtrJxa8wjd6o"
      }
    },
    {
      "cell_type": "markdown",
      "source": [
        "- 이제 next()함수로 호출을 통해 제너레이터 객체 내의 코드를 실행 할 수 있다.\n",
        "- 이때 yield구문을 만나면 파이썬 함수의 return 처럼 tield 키워드에 있는 값을 호출부로 리턴하고 실행의 흐름도 호출부로 이동된다."
      ],
      "metadata": {
        "id": "TotApXwrjzKb"
      }
    },
    {
      "cell_type": "code",
      "source": [
        "# next()함수로 yield값 차례로 나오게 하기\n",
        "print(next(num_gen()))\n",
        "print(next(num_gen()))\n",
        "print(next(num_gen()))\n",
        "\n",
        "# 이렇게 3개를 불러오면 위에서 이터레이터를 출력 했던것 처럼\n",
        "# 1, 2, 3이 차례로 나올까??\n",
        "# 결과는 안다..  모두 1로 나오게 된다."
      ],
      "metadata": {
        "colab": {
          "base_uri": "https://localhost:8080/"
        },
        "id": "verAg90oO1C5",
        "outputId": "1a49b775-2bd0-483c-cbbf-f4bacff23ee3"
      },
      "execution_count": 43,
      "outputs": [
        {
          "output_type": "stream",
          "name": "stdout",
          "text": [
            "1\n",
            "1\n",
            "1\n"
          ]
        }
      ]
    },
    {
      "cell_type": "code",
      "source": [
        "# 그이유는 num_gen() 호출할 때마다 새롭게 제너레이터를 생성하기 때문이다.\n",
        "# 이를 피하기 위해서는 제너레이터를 새로운 변수에 바인딩해주어야 한다.\n",
        "# 바인딩(binding)이란 변수에 변수와 관련된 속성을 연관시키는 과정을 이야기한다.\n",
        "# 즉, = (assignment)를 사용한다."
      ],
      "metadata": {
        "id": "L0j1fygNO1A0"
      },
      "execution_count": 44,
      "outputs": []
    },
    {
      "cell_type": "code",
      "source": [
        "g = num_gen() #g 에 할당\n",
        "\n",
        "print(next(g))\n",
        "print(next(g))\n",
        "print(next(g))\n",
        "\n",
        "# 결과는 1, 2, 3 이 출력이된.\n",
        "# 마치 __next__() 사용때처럼 하나 하나가 나옴."
      ],
      "metadata": {
        "colab": {
          "base_uri": "https://localhost:8080/"
        },
        "id": "Ozz_9omFO0-2",
        "outputId": "c10b02dd-e908-42f0-fb3c-3cf209af57b3"
      },
      "execution_count": 46,
      "outputs": [
        {
          "output_type": "stream",
          "name": "stdout",
          "text": [
            "1\n",
            "2\n",
            "3\n"
          ]
        }
      ]
    },
    {
      "cell_type": "code",
      "source": [
        "# 이터레이터에서 모든 값이 나오고난 후 다시 하면 애러가 났었다.\n",
        "# 이것도 그럴가?\n",
        "print(next(g))\n",
        "\n",
        "# 이것 역시 애러가 난다...\n",
        "# ... 좀 어렵다.. 핵심적인 내용을 잡아서 다시 정리해야할 것 같다."
      ],
      "metadata": {
        "colab": {
          "base_uri": "https://localhost:8080/",
          "height": 220
        },
        "id": "h2viKinhO08z",
        "outputId": "d9d140f9-52a5-40f3-d6c7-967ca8b35d0b"
      },
      "execution_count": 48,
      "outputs": [
        {
          "output_type": "error",
          "ename": "StopIteration",
          "evalue": "",
          "traceback": [
            "\u001b[0;31m---------------------------------------------------------------------------\u001b[0m",
            "\u001b[0;31mStopIteration\u001b[0m                             Traceback (most recent call last)",
            "\u001b[0;32m<ipython-input-48-c1a052997bab>\u001b[0m in \u001b[0;36m<cell line: 3>\u001b[0;34m()\u001b[0m\n\u001b[1;32m      1\u001b[0m \u001b[0;31m# 이터레이터에서 모든 값이 나오고난 후 다시 하면 애러가 났었다.\u001b[0m\u001b[0;34m\u001b[0m\u001b[0;34m\u001b[0m\u001b[0m\n\u001b[1;32m      2\u001b[0m \u001b[0;31m# 이것도 그럴가?\u001b[0m\u001b[0;34m\u001b[0m\u001b[0;34m\u001b[0m\u001b[0m\n\u001b[0;32m----> 3\u001b[0;31m \u001b[0mprint\u001b[0m\u001b[0;34m(\u001b[0m\u001b[0mnext\u001b[0m\u001b[0;34m(\u001b[0m\u001b[0mg\u001b[0m\u001b[0;34m)\u001b[0m\u001b[0;34m)\u001b[0m\u001b[0;34m\u001b[0m\u001b[0;34m\u001b[0m\u001b[0m\n\u001b[0m\u001b[1;32m      4\u001b[0m \u001b[0;34m\u001b[0m\u001b[0m\n\u001b[1;32m      5\u001b[0m \u001b[0;31m# 이것 역시 애러가 난다...\u001b[0m\u001b[0;34m\u001b[0m\u001b[0;34m\u001b[0m\u001b[0m\n",
            "\u001b[0;31mStopIteration\u001b[0m: "
          ]
        }
      ]
    },
    {
      "cell_type": "markdown",
      "source": [
        "- next(g)를 사용하지 않고 제너레이터로부터 값을 가져오는 방법은 for 문을 사용하는 것이다."
      ],
      "metadata": {
        "id": "tsu-_fvtl-nd"
      }
    },
    {
      "cell_type": "code",
      "source": [
        "def num_gen() :\n",
        "    yield 1\n",
        "    yield 2\n",
        "    yield 3\n",
        "\n",
        "for i in num_gen() :\n",
        "    print(i)"
      ],
      "metadata": {
        "colab": {
          "base_uri": "https://localhost:8080/"
        },
        "id": "q0PfF3fqO06v",
        "outputId": "110bf826-90c1-41ff-cecf-663c385aaae1"
      },
      "execution_count": 50,
      "outputs": [
        {
          "output_type": "stream",
          "name": "stdout",
          "text": [
            "1\n",
            "2\n",
            "3\n"
          ]
        }
      ]
    },
    {
      "cell_type": "code",
      "source": [
        "# 또 다른 제너레이터 예시\n",
        "def my_gen():\n",
        "    yield '하나'\n",
        "    yield '둘'\n",
        "    yield '셋'\n",
        "\n",
        "gen = my_gen()\n",
        "print(next(gen))\n",
        "print(next(gen))\n",
        "print(next(gen))"
      ],
      "metadata": {
        "colab": {
          "base_uri": "https://localhost:8080/"
        },
        "id": "mLjuj1bsmR5b",
        "outputId": "7757adad-b8d0-4722-c086-90ff7f05169c"
      },
      "execution_count": 51,
      "outputs": [
        {
          "output_type": "stream",
          "name": "stdout",
          "text": [
            "하나\n",
            "둘\n",
            "셋\n"
          ]
        }
      ]
    },
    {
      "cell_type": "markdown",
      "source": [
        "### 이터러블 객체와 제너레이터의 고나계\n",
        "- 이터러블 객체는 값을 반복할 수 있는 객체\n",
        "- 제너레이터는 이터레이터를 만드는 함수.\n",
        "    - 그래서 코드를 신행하는 부분이 동일.\n",
        "    - 둘도 next()함수, for문으로 데이터를 차례로 꺼냄\n",
        "    - 차이점은 뭐가 있을까?"
      ],
      "metadata": {
        "id": "G4V4sJlinJGU"
      }
    },
    {
      "cell_type": "markdown",
      "source": [
        "- 이터레이터에서 데이터 꺼네보기"
      ],
      "metadata": {
        "id": "2QDaPpAGnlDK"
      }
    },
    {
      "cell_type": "code",
      "source": [
        "# 첫 번째 호출\n",
        "ite = [x for x in range(3)]  # 리스트는 이터러블 객체\n",
        "\n",
        "# 이터레이터 척 번째 호출\n",
        "\n",
        "for value in ite :\n",
        "    print(value)"
      ],
      "metadata": {
        "colab": {
          "base_uri": "https://localhost:8080/"
        },
        "id": "zP7iTqQgnJCD",
        "outputId": "4bc32775-753b-465f-f649-ef63eb1de2de"
      },
      "execution_count": 56,
      "outputs": [
        {
          "output_type": "stream",
          "name": "stdout",
          "text": [
            "0\n",
            "1\n",
            "2\n"
          ]
        }
      ]
    },
    {
      "cell_type": "code",
      "source": [
        "# 두 번째 호출\n",
        "\n",
        "for vlaue in ite :\n",
        "    print(value)"
      ],
      "metadata": {
        "colab": {
          "base_uri": "https://localhost:8080/"
        },
        "id": "grgzUdbLnI_-",
        "outputId": "12d13e87-dd28-4bb9-9203-1ac46944a7fd"
      },
      "execution_count": 57,
      "outputs": [
        {
          "output_type": "stream",
          "name": "stdout",
          "text": [
            "2\n",
            "2\n",
            "2\n"
          ]
        }
      ]
    },
    {
      "cell_type": "markdown",
      "source": [
        "- 제너레이터에서 데이터 꺼내보기"
      ],
      "metadata": {
        "id": "fwdaWq2VoZcu"
      }
    },
    {
      "cell_type": "code",
      "source": [
        "# 첫 번째 호출\n",
        "gen = (x for x in range(3))\n",
        "\n",
        "#제너레이터 객체 척 번째 호출\n",
        "for value in gen :\n",
        "    print(value)"
      ],
      "metadata": {
        "colab": {
          "base_uri": "https://localhost:8080/"
        },
        "id": "1vYN1uzvnI92",
        "outputId": "2f413355-adc1-4d03-ce67-d017f76f0207"
      },
      "execution_count": 58,
      "outputs": [
        {
          "output_type": "stream",
          "name": "stdout",
          "text": [
            "0\n",
            "1\n",
            "2\n"
          ]
        }
      ]
    },
    {
      "cell_type": "code",
      "source": [
        "# 두 번째 호출\n",
        "for value in gen :\n",
        "    print(value)"
      ],
      "metadata": {
        "id": "FL_Hw0LAnI75"
      },
      "execution_count": 59,
      "outputs": []
    },
    {
      "cell_type": "markdown",
      "source": [
        "    - 이터러블 => 여러 번 값을 가져올 수 있다.\n",
        "    - 제너레이터 => 한 번 값을 소비하면 더이상 기억하지 않아 재사용할 수 없다."
      ],
      "metadata": {
        "id": "siiLLMxApFvS"
      }
    },
    {
      "cell_type": "markdown",
      "source": [
        "## 데코레이터(Decorator)\n",
        "왜 사용하는가??\n",
        "- 반복해서 사용하는 구문을 데코레이터로 만들면 함수를 효율적으로 사용 할 수있다.\n",
        "- 함수를 수정하지 않고 데코레이터로 함수에 기능을 추가할 수 있다."
      ],
      "metadata": {
        "id": "7ROkOvUVpWSO"
      }
    },
    {
      "cell_type": "code",
      "source": [
        "# 간단한 예제 만들어보기.\n",
        "def hi() :\n",
        "    print('hi')"
      ],
      "metadata": {
        "id": "VI8NrY5znI54"
      },
      "execution_count": 63,
      "outputs": []
    },
    {
      "cell_type": "code",
      "source": [
        "hi()"
      ],
      "metadata": {
        "colab": {
          "base_uri": "https://localhost:8080/"
        },
        "id": "NeIqFKAZnI3u",
        "outputId": "7a020483-5168-4c61-9784-9c90ffde2c14"
      },
      "execution_count": 61,
      "outputs": [
        {
          "output_type": "stream",
          "name": "stdout",
          "text": [
            "hi\n"
          ]
        }
      ]
    },
    {
      "cell_type": "markdown",
      "source": [
        "        - deco() 함수는 입력으로 fn()함수를 전달받고 해당 함수를 호출하는 새로운 함수 객체를 리턴해 준다.\n",
        "        - 이때 기존 함수를 호출하는 위치 앞이나 뒤에 원하는 기능을 추가해주면 된다."
      ],
      "metadata": {
        "id": "q7nVOZGip6Dq"
      }
    },
    {
      "cell_type": "code",
      "source": [
        "def deco(fn) :\n",
        "    def deco_hi() :\n",
        "        print(\"*\" * 20)   # 기능 추가\n",
        "        fn()              # 기존 함수 호출\n",
        "        print(\"*\"*20)     # 기능 추가\n",
        "    return deco_hi"
      ],
      "metadata": {
        "id": "2PQeUlXBOf-k"
      },
      "execution_count": 65,
      "outputs": []
    },
    {
      "cell_type": "code",
      "source": [],
      "metadata": {
        "id": "ywFESR7sqYZ-"
      },
      "execution_count": null,
      "outputs": []
    }
  ]
}