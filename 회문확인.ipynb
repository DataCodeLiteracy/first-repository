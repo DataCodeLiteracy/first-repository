{
  "nbformat": 4,
  "nbformat_minor": 0,
  "metadata": {
    "colab": {
      "provenance": [],
      "include_colab_link": true
    },
    "kernelspec": {
      "name": "python3",
      "display_name": "Python 3"
    },
    "language_info": {
      "name": "python"
    }
  },
  "cells": [
    {
      "cell_type": "markdown",
      "metadata": {
        "id": "view-in-github",
        "colab_type": "text"
      },
      "source": [
        "<a href=\"https://colab.research.google.com/github/Dennis-HyeongHo-Park/first-repository/blob/master/%ED%9A%8C%EB%AC%B8%ED%99%95%EC%9D%B8.ipynb\" target=\"_parent\"><img src=\"https://colab.research.google.com/assets/colab-badge.svg\" alt=\"Open In Colab\"/></a>"
      ]
    },
    {
      "cell_type": "code",
      "execution_count": null,
      "metadata": {
        "colab": {
          "base_uri": "https://localhost:8080/"
        },
        "id": "GmpBlTXYIBy1",
        "outputId": "ca9ac37b-f346-4bb7-f38e-426119466647"
      },
      "outputs": [
        {
          "output_type": "stream",
          "name": "stdout",
          "text": [
            "단어를 입력하세요.:아나\n",
            "아나\n",
            "나아\n",
            "입력된 단어는 회문이 아닙니다.\n"
          ]
        }
      ],
      "source": [
        "\n",
        "name = input(\"단어를 입력하세요.:\") # input함수로 입력된 값을 name 변수에 대입\n",
        "print(name) # name 값을 print\n",
        "rv_name = name[::-1]  # rv_name(리버스_네임) 변수에 역순된 name 값을 대입 ( ::-1 = 모든 인덱스를 역순으로 1개씩 )\n",
        "print(rv_name) # rv_name 값을 print\n",
        "\n",
        "if name == rv_name :  # 만약 name 값과 rv_name 값이 동일하다면\n",
        "  print(\"입력된 단어는 회문 입니다.\") # print\n",
        "else :  # 그외의 조건이라면\n",
        "  print(\"입력된 단어는 회문이 아닙니다.\") # print\n",
        "\n",
        "\n"
      ]
    }
  ]
}